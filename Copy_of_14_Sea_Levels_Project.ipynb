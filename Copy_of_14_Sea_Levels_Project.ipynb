{
  "nbformat": 4,
  "nbformat_minor": 0,
  "metadata": {
    "colab": {
      "provenance": [],
      "include_colab_link": true
    },
    "kernelspec": {
      "name": "python3",
      "display_name": "Python 3"
    },
    "language_info": {
      "name": "python"
    }
  },
  "cells": [
    {
      "cell_type": "markdown",
      "metadata": {
        "id": "view-in-github",
        "colab_type": "text"
      },
      "source": [
        "<a href=\"https://colab.research.google.com/github/AzimSalimy/Azim-python/blob/main/Copy_of_14_Sea_Levels_Project.ipynb\" target=\"_parent\"><img src=\"https://colab.research.google.com/assets/colab-badge.svg\" alt=\"Open In Colab\"/></a>"
      ]
    },
    {
      "cell_type": "markdown",
      "metadata": {
        "id": "TtGpyRE2itGv"
      },
      "source": [
        "# Sea-Level predictor project\n",
        "\n",
        "---\n"
      ]
    },
    {
      "cell_type": "markdown",
      "metadata": {
        "id": "5izBi6vRiyIV"
      },
      "source": [
        "This is a freeCodeCamp project\n",
        "\n",
        "### Data Source\n",
        "Global Average Absolute Sea Level Change, 1880-2014 from the US Environmental Protection Agency using data from CSIRO, 2015; NOAA, 2015.\n",
        "https://datahub.io/core/sea-level-rise\n",
        "\n",
        "The data describes annual sea levels from 1880 to 2013.  Measures are adjusted using two standards: Commonwealth Scientific and Industrial Research Organisation(CSIRO) and National Oceanic and Atmospheric Administration (NOAA)  \n",
        "\n",
        "Raw Data file:  https://raw.githubusercontent.com/freeCodeCamp/boilerplate-sea-level-predictor/master/epa-sea-level.csv\n",
        "\n",
        "---\n",
        "### Exercise 1 - Load in the data\n",
        "---\n",
        "\n",
        "Load in the sea-levels data and have a look, dont forget to check the numerical and technical summaries and get a feel for the dataset"
      ]
    },
    {
      "cell_type": "markdown",
      "source": [
        "# New Section"
      ],
      "metadata": {
        "id": "1IqJRarjAspP"
      }
    },
    {
      "cell_type": "code",
      "metadata": {
        "id": "y7YD5Td_isLB",
        "outputId": "74b1365c-358c-48ad-9549-2573d0ef3fde",
        "colab": {
          "base_uri": "https://localhost:8080/"
        }
      },
      "source": [
        "import pandas as pd\n",
        "url = \"https://raw.githubusercontent.com/freeCodeCamp/boilerplate-sea-level-predictor/master/epa-sea-level.csv\"\n",
        "sea_levels_data=pd.read_csv(url)\n",
        "print(sea_levels_data.head())\n",
        "print(sea_levels_data.describe())"
      ],
      "execution_count": null,
      "outputs": [
        {
          "output_type": "stream",
          "name": "stdout",
          "text": [
            "   Year  CSIRO Adjusted Sea Level  Lower Error Bound  Upper Error Bound  \\\n",
            "0  1880                  0.000000          -0.952756           0.952756   \n",
            "1  1881                  0.220472          -0.732283           1.173228   \n",
            "2  1882                 -0.440945          -1.346457           0.464567   \n",
            "3  1883                 -0.232283          -1.129921           0.665354   \n",
            "4  1884                  0.590551          -0.283465           1.464567   \n",
            "\n",
            "   NOAA Adjusted Sea Level  \n",
            "0                      NaN  \n",
            "1                      NaN  \n",
            "2                      NaN  \n",
            "3                      NaN  \n",
            "4                      NaN  \n",
            "              Year  CSIRO Adjusted Sea Level  Lower Error Bound  \\\n",
            "count   134.000000                134.000000         134.000000   \n",
            "mean   1946.500000                  3.650341           3.204666   \n",
            "std      38.826537                  2.485692           2.663781   \n",
            "min    1880.000000                 -0.440945          -1.346457   \n",
            "25%    1913.250000                  1.632874           1.078740   \n",
            "50%    1946.500000                  3.312992           2.915354   \n",
            "75%    1979.750000                  5.587598           5.329724   \n",
            "max    2013.000000                  9.326772           8.992126   \n",
            "\n",
            "       Upper Error Bound  NOAA Adjusted Sea Level  \n",
            "count         134.000000                21.000000  \n",
            "mean            4.096016                 7.363746  \n",
            "std             2.312581                 0.691038  \n",
            "min             0.464567                 6.297493  \n",
            "25%             2.240157                 6.848690  \n",
            "50%             3.710630                 7.488353  \n",
            "75%             5.845472                 7.907365  \n",
            "max             9.661417                 8.546648  \n"
          ]
        }
      ]
    },
    {
      "cell_type": "markdown",
      "metadata": {
        "id": "MevbGpJNm8_W"
      },
      "source": [
        "---\n",
        "### Exercise 2 - scatter plot\n",
        "Create a  scatter plot using the \"Year\" column as the x-axis and the \"CSIRO Adjusted Sea Level\" column as the y-axis.\n",
        "\n",
        "*hint: try using inline*"
      ]
    },
    {
      "cell_type": "code",
      "metadata": {
        "id": "96V3LU4rnK-N"
      },
      "source": [],
      "execution_count": null,
      "outputs": []
    },
    {
      "cell_type": "markdown",
      "metadata": {
        "id": "leXjCPKqoJfk"
      },
      "source": [
        "---\n",
        "### Exercise 3 - Clean the data\n",
        "\n",
        "The column NOAA has null values in a number of rows.  Clean the data, producing a new dataframe.\n"
      ]
    },
    {
      "cell_type": "code",
      "metadata": {
        "id": "HuRM0qaUoenc"
      },
      "source": [],
      "execution_count": null,
      "outputs": []
    },
    {
      "cell_type": "markdown",
      "metadata": {
        "id": "R-V0fcMBo_-N"
      },
      "source": [
        "\n",
        "### Exercise 3 - plot scatter graph for NOAA adjusted levels\n",
        "---\n"
      ]
    },
    {
      "cell_type": "code",
      "metadata": {
        "id": "HvnS0mhppLLc"
      },
      "source": [],
      "execution_count": null,
      "outputs": []
    },
    {
      "cell_type": "markdown",
      "metadata": {
        "id": "mtwuv0qgnjJ8"
      },
      "source": [
        "---\n",
        "### Exercise 4 - plot line of best fit for CSIRO\n",
        "\n",
        "*   Use the `linregress` function from `scipi.stats` to get the slope and y-intercept of the line of best fit.\n",
        "*   Plot the line of best fit over the top of the scatter plot.\n",
        "*   Make the line go through the year 2050 to predict the sea level rise in 2050.    \n",
        "\n",
        "*(Hint:  use numpy to create an array from the first year to 2050 with an increment of 1)*"
      ]
    },
    {
      "cell_type": "code",
      "metadata": {
        "id": "mMssVmCan7HI"
      },
      "source": [
        "\n",
        "\n",
        "# get scope and y-intercept\n",
        "\n",
        "# create an extended range for x to predict sea level in 2050\n",
        "\n",
        "\n",
        "# draw the scatter plot with line of best fit\n",
        "\n"
      ],
      "execution_count": null,
      "outputs": []
    },
    {
      "cell_type": "markdown",
      "metadata": {
        "id": "irprGhKO2yQs"
      },
      "source": [
        "### Exercise 5 - plot line of best fit for NOAA\n",
        "---\n",
        "\n",
        "*   Use the `linregress` function from `scipi.stats` to get the slope and y-intercept of the line of best fit.\n",
        "*   Plot the line of best fit over the top of the scatter plot.\n",
        "*   Make the line go through the year 2030 to predict the sea level rise in 2030\n",
        "\n",
        "*(Hint:  use numpy to create an array from the first year to 2030 with an increment of 1 AND remember to use noaa, which has NaN rows removed)*"
      ]
    },
    {
      "cell_type": "code",
      "metadata": {
        "id": "WZqP7hoO3Iw_"
      },
      "source": [
        "# get scope and y-intercept\n",
        "\n",
        "\n",
        "# create an extended range for x to predict sea level in 2030\n",
        "\n",
        "# draw the scatter plot with line of best fit\n"
      ],
      "execution_count": null,
      "outputs": []
    },
    {
      "cell_type": "markdown",
      "metadata": {
        "id": "52PpgSXk38eD"
      },
      "source": [
        "\n",
        "### Exercise 6 - shorter range (starting 2000)\n",
        "---\n",
        "\n",
        "Plot a new line of best fit just using the data from year 2000 through the most recent year in the dataset and using the CSIRO adjusted levels. Make the line also go through the year 2050 to predict the sea level rise in 2050 if the rate of rise continues as it has since the year 2000."
      ]
    },
    {
      "cell_type": "code",
      "metadata": {
        "id": "3yG0tWfS4GRN"
      },
      "source": [
        "# get scope and y-intercept\n",
        "\n",
        "\n",
        "# create an extended range for x to predict sea level in 2050\n",
        "\n",
        "\n",
        "# draw the scatter plot with line of best fit\n",
        "\n"
      ],
      "execution_count": null,
      "outputs": []
    },
    {
      "cell_type": "markdown",
      "metadata": {
        "id": "AO-0vV1m40Ia"
      },
      "source": [
        "### Exercise 6 - add labels to the axes  \n",
        "---\n",
        "\n",
        "The x label should be \"Year\", the y label should be \"Sea Level (inches)\", and the title should be \"Rise in Sea Level\""
      ]
    },
    {
      "cell_type": "code",
      "metadata": {
        "id": "GSY4WpDy47VC"
      },
      "source": [
        "# get scope and y-intercept\n",
        "\n",
        "# create an extended range for x to predict sea level in 2050\n",
        "\n",
        "\n",
        "# draw the scatter plot with line of best fit\n"
      ],
      "execution_count": null,
      "outputs": []
    }
  ]
}